{
 "cells": [
  {
   "cell_type": "code",
   "execution_count": 1,
   "metadata": {
    "collapsed": true,
    "pycharm": {
     "name": "#%%\n"
    }
   },
   "outputs": [],
   "source": [
    "# This will load the calibrated values and calculate the expected cross sections for each of the two energy bins and the\n",
    "# two DECT spectra\n",
    "\n",
    "import os\n",
    "import numpy as np\n",
    "\n",
    "directory = r'Material_decomposition_data\\Calibration_and_test_data'\n",
    "load_folder_pcd = '23_08_26_CT_inserts_PCD'\n",
    "load_folder = '23_08_26_CT_inserts_80'\n",
    "\n",
    "low_t1, low_t2 = 35, 50  # Low energy range\n",
    "high_t1, high_t2 = 65, 95  # High energy range\n",
    "\n",
    "low_eff = 42.7  # Low bin effective energy (keV)\n",
    "high_eff = 76.4  # High bin effective energy (keV)\n",
    "eff_80 = 44.9  # 80 kVp effective energy (keV)\n",
    "eff_120 = 58.9  # 80 kVp effective energy (keV)\n",
    "\n",
    "calib_path_pcd = os.path.join(directory, load_folder_pcd, 'Calibrated_values')\n",
    "b_low, b_high = np.load(os.path.join(calib_path_pcd, f'B_{low_t1}-{low_t2}_{high_t1}-{high_t2}_M5_ideal_mean.npy'))\n",
    "\n",
    "calib_path_80 = os.path.join(directory, load_folder, 'Calibrated_values')\n",
    "b_80, b_120 = np.load(os.path.join(calib_path_80, f'B_25-80_25-120_M3.npy'))\n"
   ]
  },
  {
   "cell_type": "code",
   "execution_count": 3,
   "outputs": [
    {
     "name": "stdout",
     "output_type": "stream",
     "text": [
      "2.3435305062282135\n",
      "-1.368940289467068 0.8352061999021635 2.3460368960187377 1.4894725396649622\n",
      "0.2599007204060324 0.18808132982002618 0.27812601170375145 0.22974895448385174\n",
      "-2.2475347278047337 1.8948612369537798 3.599337893653557 2.766357768081198\n"
     ]
    },
    {
     "data": {
      "text/plain": "<Figure size 432x288 with 1 Axes>",
      "image/png": "[encoded data removed]"
     },
     "metadata": {},
     "output_type": "display_data"
    }
   ],
   "source": [
    "# This will take a given Z and calculate a theoretical electronic cross section for a given Z value, it will also load the electronic cross section of water\n",
    "\n",
    "import os\n",
    "import numpy as np\n",
    "from filter_spectrum import filter_spectrum\n",
    "from interp_attenuation import log_interp_1d\n",
    "import matplotlib.pyplot as plt\n",
    "from find_nearest import find_nearest_index\n",
    "import seaborn as sns\n",
    "\n",
    "elements = ['H', 'O', 'C', 'N', 'Cl', 'Ca', 'P', 'Mg', 'Si']\n",
    "zs = [1, 8, 6, 7, 17, 20, 15, 12, 14]\n",
    "a_mol = [1.008, 15.999, 12.011, 14.007, 35.45, 40.08, 30.97376, 24.305, 28.085]\n",
    "den = [0.00008988, 0.001429, 2.267, 0.0012506, 0.003214, 1.54, 1.82, 1.74, 2.3296]\n",
    "\n",
    "ne_h2o = 0.111898 * 1/1.008 + 0.888102 * 8/15.999\n",
    "\n",
    "z_idx = 5\n",
    "z_name = elements[z_idx]\n",
    "z = zs[z_idx]\n",
    "a = a_mol[z_idx]\n",
    "rho = den[z_idx]\n",
    "\n",
    "ne = rho * z / a\n",
    "ne = 2.7 * 13 / 26.982\n",
    "\n",
    "print(ne/ne_h2o)\n",
    "\n",
    "att_dir = r'Material_decomposition_data\\K-edge Decomposition\\Material Decomposition Inserts'\n",
    "z_att = np.loadtxt(os.path.join(att_dir, 'Elements', f'lin_{z_name}.txt'))\n",
    "h2o = np.loadtxt(os.path.join(att_dir, f'H2O.txt'))\n",
    "\n",
    "spec_folder = r'Material_decomposition_data\\K-edge Decomposition\\Beam Spectrum'\n",
    "beam = np.load(os.path.join(spec_folder, 'corrected-spectrum_120kV.npy'))\n",
    "beam80 = np.load(os.path.join(spec_folder, '80kV.npy'))\n",
    "\n",
    "# Filter the spectrum\n",
    "beam = filter_spectrum(beam, 'Al', 6)\n",
    "energies = beam[:, 0]\n",
    "spectrum = beam[:, 1]\n",
    "\n",
    "energies80 = beam80[:, 0] / 1000 # Convert to MeV\n",
    "spectrum80 = beam80[:, 1]\n",
    "\n",
    "# Interpolate the attenuation of the element and water into the energies of the spectrum\n",
    "interp_func = log_interp_1d(z_att[:, 0], z_att[:, 1])\n",
    "z_att = interp_func(energies)\n",
    "\n",
    "interp_h2o = log_interp_1d(h2o[:, 0], h2o[:, 1])\n",
    "h2o_120 = interp_h2o(energies)\n",
    "h2o_80 = interp_h2o(energies80)\n",
    "\n",
    "low_spectrum = np.copy(spectrum)\n",
    "lt1i = find_nearest_index(energies * 1000, low_t1)\n",
    "lt2i = find_nearest_index(energies * 1000, low_t2)\n",
    "low_spectrum[0:lt1i] = 0\n",
    "low_spectrum[lt2i + 1:] = 0\n",
    "\n",
    "high_spectrum = np.copy(spectrum)\n",
    "ht1i = find_nearest_index(energies * 1000, high_t1)\n",
    "ht2i = find_nearest_index(energies * 1000, high_t2)\n",
    "high_spectrum[0:ht1i] = 0\n",
    "high_spectrum[ht2i + 1:] = 0\n",
    "\n",
    "low_h2o = np.average(h2o_120, weights=low_spectrum)\n",
    "high_h2o = np.average(h2o_120, weights=high_spectrum)\n",
    "\n",
    "spectrum_80 = np.copy(spectrum80)\n",
    "lt1i = find_nearest_index(energies80 * 1000, 25)\n",
    "lt2i = find_nearest_index(energies80 * 1000, 80)\n",
    "spectrum_80[0:lt1i] = 0\n",
    "spectrum_80[lt2i + 1:] = 0\n",
    "\n",
    "spectrum_120 = np.copy(spectrum)\n",
    "ht1i = find_nearest_index(energies * 1000, 25)\n",
    "ht2i = find_nearest_index(energies * 1000, 120)\n",
    "spectrum_120[0:ht1i] = 0\n",
    "spectrum_120[ht2i + 1:] = 0\n",
    "\n",
    "low_h20_80 = np.average(h2o_80, weights=spectrum_80)\n",
    "high_h2o_120 = np.average(h2o_120, weights=spectrum_120)\n",
    "\n",
    "mu_low = low_h2o * ne / ne_h2o * np.sum(b_low * np.power(z * np.ones(5), (np.arange(5))))\n",
    "mu_high = high_h2o * ne / ne_h2o * np.sum(b_high * np.power(z * np.ones(5), (np.arange(5))))\n",
    "\n",
    "mu_80 = low_h20_80 * ne / ne_h2o * np.sum(b_80 * np.power(z * np.ones(3), (np.arange(3))))\n",
    "mu_120 = high_h2o_120 * ne / ne_h2o * np.sum(b_120 * np.power(z * np.ones(3), (np.arange(3))))\n",
    "\n",
    "print(mu_low, mu_high, mu_80, mu_120)\n",
    "print(low_h2o, high_h2o, low_h20_80, high_h2o_120)\n",
    "print(np.sum(b_low * np.power(z * np.ones(5), (np.arange(5)))), np.sum(b_high * np.power(z * np.ones(5), (np.arange(5)))), np.sum(b_80 * np.power(z * np.ones(3), (np.arange(3)))), np.sum(b_120 * np.power(z * np.ones(3), (np.arange(3)))))\n",
    "\n",
    "sns.set_style('whitegrid')\n",
    "fig = plt.figure(figsize=(6, 4))\n",
    "plt.semilogy(energies * 1000, z_att, color='k', ls=':')\n",
    "plt.scatter(low_eff, mu_low, color='k', marker='o')\n",
    "plt.scatter(high_eff, mu_high, color='k', marker='s')\n",
    "plt.scatter(eff_80, mu_80, color='k', marker='v')\n",
    "plt.scatter(eff_120, mu_120, color='k', marker='^')\n",
    "plt.legend([r'$\\mu$ (NIST)', '35-50 keV', '65-95 keV', '80 kVp', '120 kVp'])\n",
    "plt.xlabel('Photon energy (keV)')\n",
    "plt.ylabel(r'$\\mu$ (cm$^{-1}$)')\n",
    "plt.title(f'{z_name}', fontsize=13)\n",
    "plt.show()"
   ],
   "metadata": {
    "collapsed": false,
    "pycharm": {
     "name": "#%%\n"
    }
   }
  }
 ],
 "metadata": {
  "kernelspec": {
   "display_name": "Python 3",
   "language": "python",
   "name": "python3"
  },
  "language_info": {
   "codemirror_mode": {
    "name": "ipython",
    "version": 2
   },
   "file_extension": ".py",
   "mimetype": "text/x-python",
   "name": "python",
   "nbconvert_exporter": "python",
   "pygments_lexer": "ipython2",
   "version": "2.7.6"
  }
 },
 "nbformat": 4,
 "nbformat_minor": 0
}